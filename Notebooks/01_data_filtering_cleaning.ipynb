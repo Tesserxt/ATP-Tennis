{
 "cells": [
  {
   "cell_type": "code",
   "execution_count": null,
   "id": "c1c17fe4",
   "metadata": {},
   "outputs": [],
   "source": [
    "import pandas as pd \n",
    "import numpy as np\n",
    "import matplotlib.pyplot as plt\n",
    "import seaborn as sns\n",
    "import glob\n",
    "pd.set_option('display.max_columns', None)"
   ]
  },
  {
   "cell_type": "code",
   "execution_count": null,
   "id": "7e85ca4e",
   "metadata": {},
   "outputs": [],
   "source": [
    "def get_all_atp_matches():\n",
    "    allFiles = np.sort(glob.glob(\"../Data/tennis_atp/atp_matches_\" + \"????.csv\"))[:]\n",
    "    match = pd.DataFrame()\n",
    "    list_ = list()\n",
    "    for filen in allFiles:\n",
    "        df = pd.read_csv(filen,\n",
    "                         parse_dates=[5])\n",
    "        list_.append(df)\n",
    "    match = pd.concat(list_)\n",
    "    return match\n",
    "\n",
    "def plot_nans(df, get_null_cols=False):\n",
    "    print(\"df: \", df.shape)\n",
    "    null_count = df.isna().sum()\n",
    "    null_cols = null_count[null_count > 0]\n",
    "    print('nNulls: ', null_cols.shape)\n",
    "    sns.set_theme(font_scale=0.8)\n",
    "    sns.barplot(x=null_cols.values, y=null_cols.index)\n",
    "    plt.ylabel('Columns has NaN')\n",
    "    plt.show()\n",
    "    \n",
    "    if get_null_cols:\n",
    "        return null_cols\n",
    "\n",
    "df = get_all_atp_matches()"
   ]
  },
  {
   "cell_type": "code",
   "execution_count": null,
   "id": "d0af4d29",
   "metadata": {},
   "outputs": [],
   "source": [
    "df.head(2)"
   ]
  },
  {
   "cell_type": "markdown",
   "id": "f06eac05",
   "metadata": {},
   "source": [
    "<span style=\"margin-left:38vw\"></span>**Grand Slams 1968 - 2024**"
   ]
  },
  {
   "cell_type": "code",
   "execution_count": null,
   "id": "566e89df",
   "metadata": {},
   "outputs": [],
   "source": [
    "grand_slams_df = df.query('tourney_level == \"G\" & best_of == 5').reset_index(drop=True)\n",
    "grand_slams_df.winner_name.value_counts()"
   ]
  },
  {
   "cell_type": "code",
   "execution_count": null,
   "id": "9bfcaafa",
   "metadata": {},
   "outputs": [],
   "source": [
    "grand_slams_df.query('winner_name == \"Novak Djokovic\"')['winner_age'].min()"
   ]
  },
  {
   "cell_type": "code",
   "execution_count": null,
   "id": "25912dd3",
   "metadata": {},
   "outputs": [],
   "source": [
    "winner_min_age = grand_slams_df.groupby('winner_id')['winner_age'].min()\n",
    "loser_min_age = grand_slams_df.groupby('loser_name')['loser_age'].min()\n",
    "\n",
    "grand_slams_df[['winner_id', 'winner_name','winner_age']]\n"
   ]
  },
  {
   "cell_type": "code",
   "execution_count": null,
   "id": "ac6204e1",
   "metadata": {},
   "outputs": [],
   "source": [
    "gdf = pd.DataFrame()\n",
    "gdf['surface'] = grand_slams_df['surface']\n",
    "gdf['round'] = grand_slams_df['round']\n",
    "gdf['height_diff'] = grand_slams_df['winner_ht'] - grand_slams_df['loser_ht']\n",
    "gdf['age_diff'] =  grand_slams_df['winner_age'] - grand_slams_df['loser_age']\n",
    "gdf['rank_diff'] = grand_slams_df['loser_rank'] - grand_slams_df['winner_rank']\n",
    "gdf['seed_diff'] = grand_slams_df['loser_seed'] - grand_slams_df['winner_seed']\n",
    "gdf['winner_exp'] = grand_slams_df['winner_age'] - 17\n",
    "gdf['loser_exp'] = grand_slams_df['loser_age'] - 17\n",
    "\n",
    "plot_nans(gdf)"
   ]
  },
  {
   "cell_type": "markdown",
   "id": "f244ff73",
   "metadata": {},
   "source": [
    "## Handling NaN's"
   ]
  },
  {
   "cell_type": "code",
   "execution_count": null,
   "id": "ba836bd2",
   "metadata": {},
   "outputs": [],
   "source": [
    "null_cols = plot_nans(grand_slams_df, get_null_cols=True)"
   ]
  },
  {
   "cell_type": "code",
   "execution_count": null,
   "id": "434de684",
   "metadata": {},
   "outputs": [],
   "source": [
    "grand_slams_df = grand_slams_df.dropna(subset=null_cols[null_cols < 10500].index).reset_index(drop=True)"
   ]
  },
  {
   "cell_type": "code",
   "execution_count": null,
   "id": "564db33b",
   "metadata": {},
   "outputs": [],
   "source": [
    "plot_nans(grand_slams_df )"
   ]
  },
  {
   "cell_type": "code",
   "execution_count": null,
   "id": "98fefc02",
   "metadata": {},
   "outputs": [],
   "source": [
    "# filling NaN with 0 as newer players are not seeded\n",
    "grand_slams_df.fillna({'winner_seed':0, 'loser_seed':0}, inplace=True)\n",
    "plot_nans(grand_slams_df)"
   ]
  },
  {
   "cell_type": "markdown",
   "id": "1afc3987",
   "metadata": {},
   "source": [
    "*Checking how similar NaN's in winner/loser entry are*"
   ]
  },
  {
   "cell_type": "code",
   "execution_count": null,
   "id": "e2785898",
   "metadata": {},
   "outputs": [],
   "source": [
    "count1 = grand_slams_df['winner_entry'].value_counts(dropna=False)\n",
    "count2 = grand_slams_df['loser_entry'].value_counts(dropna=False)\n",
    "\n",
    "counts_df = pd.concat([count1, count2], axis=1)\n",
    "counts_df.columns = ['winner_entry', 'loser_entry']\n",
    "\n",
    "# Plot side-by-side bars\n",
    "counts_df.plot(kind='bar')\n",
    "plt.ylabel('Count')\n",
    "plt.title('Value Counts of winner/loser entry')\n",
    "plt.xticks(rotation=0)\n",
    "plt.show()\n"
   ]
  },
  {
   "cell_type": "code",
   "execution_count": null,
   "id": "db5aa623",
   "metadata": {},
   "outputs": [],
   "source": [
    "grand_slams_df.drop(columns=['winner_entry', 'loser_entry'], inplace=True)"
   ]
  },
  {
   "cell_type": "markdown",
   "id": "247bb783",
   "metadata": {},
   "source": [
    "#### Analyzing Minutes"
   ]
  },
  {
   "cell_type": "code",
   "execution_count": null,
   "id": "6b39edfc",
   "metadata": {},
   "outputs": [],
   "source": [
    "print('nNulls: ',grand_slams_df.minutes.isna().sum())\n",
    "print('kurtosis: ', grand_slams_df.minutes.kurtosis()) # not many outliers\n",
    "print(grand_slams_df.minutes.describe())\n",
    "grand_slams_df.minutes.plot(kind='kde')\n",
    "plt.show()"
   ]
  },
  {
   "cell_type": "code",
   "execution_count": null,
   "id": "ffb2269a",
   "metadata": {},
   "outputs": [],
   "source": [
    "import plotly.express as px\n",
    "\n",
    "fig = px.box(grand_slams_df, y=\"minutes\")\n",
    "fig.update_layout(\n",
    "    autosize=False,\n",
    "    width=600,  \n",
    "    height=400\n",
    ")\n",
    "fig.show()"
   ]
  },
  {
   "cell_type": "code",
   "execution_count": null,
   "id": "10293678",
   "metadata": {},
   "outputs": [],
   "source": [
    "# imputing NaN's in minutes with mean\n",
    "grand_slams_df.fillna({'minutes': grand_slams_df['minutes'].mean()}, inplace=True)\n",
    "grand_slams_df.isna().any().any() # if nans left or not"
   ]
  },
  {
   "cell_type": "markdown",
   "id": "96e83ae5",
   "metadata": {},
   "source": [
    "<span style=\"margin-left:40vw\"></span>**Hahha! Data cleansed finally**"
   ]
  },
  {
   "cell_type": "code",
   "execution_count": null,
   "id": "85ae39e7",
   "metadata": {},
   "outputs": [],
   "source": [
    "import numpy as np\n",
    "\n",
    "def random_impute(col):\n",
    "    missing = col.isna()\n",
    "    col[missing] = np.random.choice(col[~missing], size=missing.sum(), replace=True)\n",
    "    return col\n",
    "    random_impute       \n",
    "random_impute(grand_slams_df['minutes'])\n"
   ]
  }
 ],
 "metadata": {
  "kernelspec": {
   "display_name": "jupyter_venv",
   "language": "python",
   "name": "python3"
  },
  "language_info": {
   "codemirror_mode": {
    "name": "ipython",
    "version": 3
   },
   "file_extension": ".py",
   "mimetype": "text/x-python",
   "name": "python",
   "nbconvert_exporter": "python",
   "pygments_lexer": "ipython3",
   "version": "3.13.3"
  }
 },
 "nbformat": 4,
 "nbformat_minor": 5
}
